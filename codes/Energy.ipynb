{
 "cells": [
  {
   "cell_type": "code",
   "execution_count": 1,
   "id": "21a302d2-2232-499c-a845-3ae67ec1b147",
   "metadata": {},
   "outputs": [],
   "source": [
    "import numpy as np\n",
    "import matplotlib.pyplot as plt\n",
    "from matplotlib.cm import get_cmap\n",
    "from scipy import stats\n",
    "from timeit import default_timer as timer\n",
    "import os\n",
    "from tqdm import tqdm"
   ]
  },
  {
   "cell_type": "code",
   "execution_count": 2,
   "id": "4d83daf4-e7da-4c27-b537-267c93a6d1e1",
   "metadata": {},
   "outputs": [
    {
     "name": "stderr",
     "output_type": "stream",
     "text": [
      "2022-01-20 09:41:18.610555: W tensorflow/stream_executor/platform/default/dso_loader.cc:64] Could not load dynamic library 'libcudart.so.11.0'; dlerror: libcudart.so.11.0: cannot open shared object file: No such file or directory; LD_LIBRARY_PATH: /usr/lib/cuda/include:/usr/lib/cuda/lib64:\n",
      "2022-01-20 09:41:18.610607: I tensorflow/stream_executor/cuda/cudart_stub.cc:29] Ignore above cudart dlerror if you do not have a GPU set up on your machine.\n"
     ]
    }
   ],
   "source": [
    "from scdc.ensemble import Ensemble\n",
    "from scdc.event import Event\n",
    "from scdc.particle import Quasiparticle\n",
    "from scdc.materials import ALUMINUM, NIOBIUM, SILICON\n",
    "#from scdc import plot  # Contains matplotlib configuration code\n",
    "from scdc.initial.distribution.integral import InitialSampler\n",
    "from scdc.initial.halo import StandardHaloDistribution\n",
    "from scdc.initial.response import HybridResponseFunction\n",
    "from scdc.initial.matrix_element import FiducialMatrixElement"
   ]
  },
  {
   "cell_type": "code",
   "execution_count": 5,
   "id": "6fdad122-5450-42de-9566-822761f4d6a7",
   "metadata": {},
   "outputs": [],
   "source": [
    "KMS = 3.33564e-6  # km/s in natural units\n",
    "\n",
    "material = ALUMINUM\n",
    "vdf = StandardHaloDistribution(\n",
    "    v_0    = 220 * KMS / material.v, \n",
    "    v_esc  = 550 * KMS / material.v,\n",
    "    v_wind = 230 * KMS / material.v\n",
    ")\n",
    "vdf_iso = StandardHaloDistribution(\n",
    "    v_0    = 220 * KMS / material.v, \n",
    "    v_esc  = 550 * KMS / material.v,\n",
    "    v_wind = 0 * KMS / material.v\n",
    ")\n",
    "response = HybridResponseFunction(material, 1) # The 1 is the coherence sign. Can be +1 or -1\n",
    "me_light = FiducialMatrixElement(mediator_mass = 0)\n",
    "me_heavy = FiducialMatrixElement(mediator_mass = 10)\n",
    "m_nt     = np.concatenate((np.linspace(1, 9, 4) * 1e6, np.linspace(1, 9, 4) * 1e7)) / material.m # Dark matter masses\n",
    "N_events = np.array( [50, 100] ) # Numero de eventos observados"
   ]
  },
  {
   "cell_type": "code",
   "execution_count": null,
   "id": "eb9b0b8a-c615-4de2-8f0f-badffbf76d61",
   "metadata": {},
   "outputs": [
    {
     "name": "stderr",
     "output_type": "stream",
     "text": [
      "100%|██████████████████████████████████████████████████████████| 8/8 [15:49<00:00, 118.63s/it]\n",
      "  0%|                                                                   | 0/8 [00:00<?, ?it/s]"
     ]
    }
   ],
   "source": [
    "cmap = get_cmap('viridis', len(m_nt))\n",
    "\n",
    "fig, ax = plt.subplots(2, 2, sharex = False, sharey = False, figsize = (14, 10), gridspec_kw = dict(hspace = 0.3, wspace = 0))\n",
    "\n",
    "for i, vali in enumerate(tqdm(m_nt)):\n",
    "    sampler_light    = InitialSampler(vali, me_light, material, response, vdf, n_cq = 20, n_rq = 20)\n",
    "    simulation_light = sampler_light.ensemble(N_events[0])\n",
    "    simulation_light.chain()  \n",
    "    if i < (len(m_nt)/2):\n",
    "        ax[0,0].hist(simulation_light.leaf_particles.quasiparticles.energy, histtype = 'step', color = cmap(i),\n",
    "                label = 'M_{DM} = ' + '{:.2e}'.format(vali * material.m) + ' eV')\n",
    "    else:\n",
    "        ax[0,0].hist(simulation_light.leaf_particles.quasiparticles.energy, histtype = 'step', color = cmap(i))\n",
    "    ax[1,0].hist(simulation_light.leaf_particles.phonons.energy, histtype = 'step', color = cmap(i))\n",
    "\n",
    "\n",
    "ax[0,0].legend()\n",
    "ax[0,0].set_xlabel('')\n",
    "ax[0,0].set_title('Light Mediator')\n",
    "    \n",
    "for i, vali in enumerate(tqdm(m_nt)):\n",
    "    sampler_heavy    = InitialSampler(vali, me_heavy, material, response, vdf, n_cq = 20, n_rq = 20)\n",
    "    simulation_heavy = sampler_heavy.ensemble(N_events[0])\n",
    "    simulation_heavy.chain()    \n",
    "    if i > (len(m_nt)/2):\n",
    "        ax[0,1].hist(simulation_heavy.leaf_particles.quasiparticles.energy, histtype = 'step', color = cmap(i),\n",
    "                label = 'M_{DM} = ' + '{:.2e}'.format(vali * material.m) + ' eV')\n",
    "    else:\n",
    "        ax[0,1].hist(simulation_heavy.leaf_particles.quasiparticles.energy, histtype = 'step', color = cmap(i))\n",
    "    ax[1,1].hist(simulation_heavy.leaf_particles.phonons.energy, histtype = 'step', color = cmap(i))\n",
    "    \n",
    "ax[0,1].legend()\n",
    "ax[0,1].set_xlabel('')\n",
    "ax[0,1].set_title('Heavy Mediator')\n",
    "ax[0,1].yaxis.tick_right()\n",
    "ax[0,1].yaxis.set_ticks_position('both')\n",
    "ax[0,0].set_xlabel('Energy [$\\Delta$]')\n",
    "ax[0,1].set_xlabel('Energy [$\\Delta$]')\n",
    "ax[0,0].text(1 + 0.8e-5, 350, 'QP')\n",
    "ax[0,1].text(1 + 0.8e-5, 350, 'QP')\n",
    " \n",
    "ax[1,0].set_xlabel('Energy [$\\Delta$]')\n",
    "ax[1,1].set_xlabel('Energy [$\\Delta$]')\n",
    "ax[1,1].yaxis.set_ticks_position('both')\n",
    "ax[1,1].yaxis.tick_right()\n",
    "ax[1,0].text(0.17, 3000, 'PH')\n",
    "ax[1,1].text(0.17, 3000, 'PH')\n",
    "\n",
    "plt.savefig('../graph/energy_leaf_QP+PH_AL.pdf')"
   ]
  },
  {
   "cell_type": "code",
   "execution_count": null,
   "id": "3155ebe5-109e-4e21-b3b8-1d26efc6c900",
   "metadata": {},
   "outputs": [],
   "source": []
  },
  {
   "cell_type": "code",
   "execution_count": null,
   "id": "5a89c564-2555-4ca4-99ba-8a20fbfbbe48",
   "metadata": {},
   "outputs": [],
   "source": []
  }
 ],
 "metadata": {
  "kernelspec": {
   "display_name": "Python 3 (ipykernel)",
   "language": "python",
   "name": "python3"
  },
  "language_info": {
   "codemirror_mode": {
    "name": "ipython",
    "version": 3
   },
   "file_extension": ".py",
   "mimetype": "text/x-python",
   "name": "python",
   "nbconvert_exporter": "python",
   "pygments_lexer": "ipython3",
   "version": "3.8.10"
  }
 },
 "nbformat": 4,
 "nbformat_minor": 5
}
